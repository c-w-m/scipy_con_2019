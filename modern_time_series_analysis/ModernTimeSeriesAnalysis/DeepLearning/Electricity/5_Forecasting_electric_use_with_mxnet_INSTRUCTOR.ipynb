{
 "cells": [
  {
   "cell_type": "markdown",
   "metadata": {},
   "source": [
    "# [scipy2019](https://www.scipy2019.scipy.org/)\n",
    "![](https://i.ytimg.com/vi/v5ijNXvlC5A/maxresdefault.jpg)\n",
    "* [Modern Time Series Analysis | SciPy 2019 Tutorial | Aileen Nielsen](https://www.youtube.com/watch?v=v5ijNXvlC5A)\n",
    "  - [json link](https://github.com/pyvideo/data/blob/master/scipy-2019/videos/modern-time-series-analysis-scipy-2019-tutorial-aileen-nielsen.json)\n",
    "* [john-science/scipy_con_2019](https://github.com/john-science/scipy_con_2019/tree/main/gpu)\n",
    "\n",
    "## PracticalTimeSeriesAnalysis\n",
    "* [PracticalTimeSeriesAnalysis](https://github.com/PracticalTimeSeriesAnalysis)\n",
    "\n",
    "## Prior Talk\n",
    "* [Aileen Nielsen](https://github.com/AileenNielsen)\n",
    "  - [TimeSeriesAnalysisWithPython](https://github.com/AileenNielsen/TimeSeriesAnalysisWithPython)\n",
    "  - [PyGotham_2016_Probabilistic_Graphical_Models](https://github.com/AileenNielsen/PyGotham_2016_Probabilistic_Graphical_Models)\n",
    "\n",
    "## Dynamic Time Warping (DTW)\n",
    "* [dtaidistance](https://github.com/c-w-m/dtaidistance)\n",
    "\n",
    "## Machine Learning Timeseries\n",
    "* [Convolution](https://cs231n.github.io/convolutional-networks/)\n",
    "  - [A Comprehensive Guide to Convolutional Neural Networks — the ELI5 way](https://towardsdatascience.com/a-comprehensive-guide-to-convolutional-neural-networks-the-eli5-way-3bd2b1164a53)\n",
    "* [Recurrent Neural Networks (RNN)](https://colah.github.io/posts/2015-08-Understanding-LSTMs/)\n",
    "  - GRU: A slightly more dramatic variation on the LSTM is the Gated Recurrent Unit (GRU)\n",
    "  - LSTNet: combines convolution, recurrent (RNN)\n",
    "  - [LSTNet](https://modelzoo.co/model/lstnet), MXNet implementation\n",
    "  - [Modeling Long- and Short-Term Temporal Patterns with Deep Neural Networks](https://arxiv.org/pdf/1703.07015.pdf), 2018-04\n",
    "    - [LSTNet](https://github.com/laiguokun/LSTNet), code\n",
    "    - [multivariate-time-series-data](https://github.com/laiguokun/multivariate-time-series-data), datasets\n",
    "  - [Deep Learning for Multivariate Time Series Forecasting using Apache MXNet](https://opringle.github.io/2018/01/05/deep_learning_multivariate_ts.html)\n",
    "    - [multivariate_time_series_forecasting](https://github.com/opringle/multivariate_time_series_forecasting), code\n",
    "\n",
    "---\n"
   ]
  },
  {
   "cell_type": "code",
   "execution_count": 1,
   "metadata": {},
   "outputs": [],
   "source": [
    "%matplotlib inline\n",
    "\n",
    "width = 6\n",
    "height = 3\n",
    "import matplotlib\n",
    "matplotlib.rcParams['figure.figsize'] = [width, height]\n",
    "\n",
    "import pandas as pd\n",
    "import numpy as np\n",
    "import matplotlib.pyplot as plt\n",
    "\n",
    "## utilities\n",
    "import os\n",
    "\n",
    "## deep learning module\n",
    "import mxnet as mx\n",
    "\n",
    "## data processing\n",
    "import numpy as np\n",
    "import pandas as pd\n",
    "\n",
    "## reporting\n",
    "import perf\n",
    "from scipy.stats import pearsonr, spearmanr"
   ]
  },
  {
   "cell_type": "markdown",
   "metadata": {},
   "source": [
    "## Configure parameters"
   ]
  },
  {
   "cell_type": "code",
   "execution_count": 2,
   "metadata": {},
   "outputs": [],
   "source": [
    "## some hyperparameters we won't tune via command line inputs\n",
    "DATA_SEGMENTS    = { 'tr': 0.6, 'va': 0.2, 'tst': 0.2}\n",
    "THRESHOLD_EPOCHS = 2\n",
    "COR_THRESHOLD    =  0.005\n",
    "\n",
    "## temporal slicing\n",
    "WIN              = 24 ##* 7\n",
    "H                = 3\n",
    "\n",
    "## model details \n",
    "MODEL            = 'rnn_model'\n",
    "SZ_FILT          = 8\n",
    "N_FILT           = 10\n",
    "RNN_UNITS        = 10\n",
    "SEASONAL_PERIOD  = 24\n",
    "\n",
    "## training details\n",
    "GPU              = 0\n",
    "BATCH_N          = 1024\n",
    "LR               = 0.0001\n",
    "DROP             = 0.2\n",
    "N_EPOCHS         = 30\n",
    "\n",
    "## data details\n",
    "DATA_FILE        = 'electricity.diff.txt'\n",
    "SAVE_DIR         = \"resultsDir\""
   ]
  },
  {
   "cell_type": "markdown",
   "metadata": {},
   "source": [
    "## Exercise: Look at the data"
   ]
  },
  {
   "cell_type": "code",
   "execution_count": 3,
   "metadata": {},
   "outputs": [],
   "source": [
    "elec = pd.read_csv('electricity.diff.txt')"
   ]
  },
  {
   "cell_type": "code",
   "execution_count": 4,
   "metadata": {},
   "outputs": [
    {
     "data": {
      "text/html": [
       "<div>\n",
       "<style scoped>\n",
       "    .dataframe tbody tr th:only-of-type {\n",
       "        vertical-align: middle;\n",
       "    }\n",
       "\n",
       "    .dataframe tbody tr th {\n",
       "        vertical-align: top;\n",
       "    }\n",
       "\n",
       "    .dataframe thead th {\n",
       "        text-align: right;\n",
       "    }\n",
       "</style>\n",
       "<table border=\"1\" class=\"dataframe\">\n",
       "  <thead>\n",
       "    <tr style=\"text-align: right;\">\n",
       "      <th></th>\n",
       "      <th>V1</th>\n",
       "      <th>V2</th>\n",
       "      <th>V3</th>\n",
       "      <th>V4</th>\n",
       "      <th>V5</th>\n",
       "      <th>V6</th>\n",
       "      <th>V7</th>\n",
       "      <th>V8</th>\n",
       "      <th>V9</th>\n",
       "      <th>V10</th>\n",
       "      <th>...</th>\n",
       "      <th>V312</th>\n",
       "      <th>V313</th>\n",
       "      <th>V314</th>\n",
       "      <th>V315</th>\n",
       "      <th>V316</th>\n",
       "      <th>V317</th>\n",
       "      <th>V318</th>\n",
       "      <th>V319</th>\n",
       "      <th>V320</th>\n",
       "      <th>V321</th>\n",
       "    </tr>\n",
       "  </thead>\n",
       "  <tbody>\n",
       "    <tr>\n",
       "      <th>0</th>\n",
       "      <td>4</td>\n",
       "      <td>23</td>\n",
       "      <td>78</td>\n",
       "      <td>141</td>\n",
       "      <td>77</td>\n",
       "      <td>307</td>\n",
       "      <td>0</td>\n",
       "      <td>262</td>\n",
       "      <td>45</td>\n",
       "      <td>75</td>\n",
       "      <td>...</td>\n",
       "      <td>129</td>\n",
       "      <td>80</td>\n",
       "      <td>15100.0</td>\n",
       "      <td>-76</td>\n",
       "      <td>1615</td>\n",
       "      <td>17</td>\n",
       "      <td>9</td>\n",
       "      <td>619</td>\n",
       "      <td>71</td>\n",
       "      <td>673</td>\n",
       "    </tr>\n",
       "    <tr>\n",
       "      <th>1</th>\n",
       "      <td>3</td>\n",
       "      <td>4</td>\n",
       "      <td>0</td>\n",
       "      <td>4</td>\n",
       "      <td>-20</td>\n",
       "      <td>-123</td>\n",
       "      <td>0</td>\n",
       "      <td>-77</td>\n",
       "      <td>-1</td>\n",
       "      <td>-40</td>\n",
       "      <td>...</td>\n",
       "      <td>12</td>\n",
       "      <td>-22</td>\n",
       "      <td>1400.0</td>\n",
       "      <td>-358</td>\n",
       "      <td>-46</td>\n",
       "      <td>-1</td>\n",
       "      <td>-4</td>\n",
       "      <td>16</td>\n",
       "      <td>-35</td>\n",
       "      <td>-71</td>\n",
       "    </tr>\n",
       "    <tr>\n",
       "      <th>2</th>\n",
       "      <td>-1</td>\n",
       "      <td>-4</td>\n",
       "      <td>0</td>\n",
       "      <td>-117</td>\n",
       "      <td>-59</td>\n",
       "      <td>-395</td>\n",
       "      <td>-5</td>\n",
       "      <td>-192</td>\n",
       "      <td>-91</td>\n",
       "      <td>-89</td>\n",
       "      <td>...</td>\n",
       "      <td>-16</td>\n",
       "      <td>-139</td>\n",
       "      <td>-2100.0</td>\n",
       "      <td>-63</td>\n",
       "      <td>-206</td>\n",
       "      <td>1</td>\n",
       "      <td>-4</td>\n",
       "      <td>-878</td>\n",
       "      <td>-23</td>\n",
       "      <td>-29</td>\n",
       "    </tr>\n",
       "    <tr>\n",
       "      <th>3</th>\n",
       "      <td>2</td>\n",
       "      <td>-1</td>\n",
       "      <td>0</td>\n",
       "      <td>-97</td>\n",
       "      <td>-23</td>\n",
       "      <td>-198</td>\n",
       "      <td>-8</td>\n",
       "      <td>-100</td>\n",
       "      <td>7</td>\n",
       "      <td>-32</td>\n",
       "      <td>...</td>\n",
       "      <td>6</td>\n",
       "      <td>-12</td>\n",
       "      <td>-3200.0</td>\n",
       "      <td>-106</td>\n",
       "      <td>-67</td>\n",
       "      <td>10</td>\n",
       "      <td>1</td>\n",
       "      <td>63</td>\n",
       "      <td>-4</td>\n",
       "      <td>-14</td>\n",
       "    </tr>\n",
       "    <tr>\n",
       "      <th>4</th>\n",
       "      <td>-2</td>\n",
       "      <td>1</td>\n",
       "      <td>-125</td>\n",
       "      <td>-6</td>\n",
       "      <td>-12</td>\n",
       "      <td>-6</td>\n",
       "      <td>2</td>\n",
       "      <td>-7</td>\n",
       "      <td>-2</td>\n",
       "      <td>-2</td>\n",
       "      <td>...</td>\n",
       "      <td>-5</td>\n",
       "      <td>110</td>\n",
       "      <td>-4300.0</td>\n",
       "      <td>143</td>\n",
       "      <td>-750</td>\n",
       "      <td>-11</td>\n",
       "      <td>-1</td>\n",
       "      <td>-128</td>\n",
       "      <td>-6</td>\n",
       "      <td>21</td>\n",
       "    </tr>\n",
       "  </tbody>\n",
       "</table>\n",
       "<p>5 rows × 321 columns</p>\n",
       "</div>"
      ],
      "text/plain": [
       "   V1  V2   V3   V4  V5   V6  V7   V8  V9  V10  ...  V312  V313     V314  \\\n",
       "0   4  23   78  141  77  307   0  262  45   75  ...   129    80  15100.0   \n",
       "1   3   4    0    4 -20 -123   0  -77  -1  -40  ...    12   -22   1400.0   \n",
       "2  -1  -4    0 -117 -59 -395  -5 -192 -91  -89  ...   -16  -139  -2100.0   \n",
       "3   2  -1    0  -97 -23 -198  -8 -100   7  -32  ...     6   -12  -3200.0   \n",
       "4  -2   1 -125   -6 -12   -6   2   -7  -2   -2  ...    -5   110  -4300.0   \n",
       "\n",
       "   V315  V316  V317  V318  V319  V320  V321  \n",
       "0   -76  1615    17     9   619    71   673  \n",
       "1  -358   -46    -1    -4    16   -35   -71  \n",
       "2   -63  -206     1    -4  -878   -23   -29  \n",
       "3  -106   -67    10     1    63    -4   -14  \n",
       "4   143  -750   -11    -1  -128    -6    21  \n",
       "\n",
       "[5 rows x 321 columns]"
      ]
     },
     "execution_count": 4,
     "metadata": {},
     "output_type": "execute_result"
    }
   ],
   "source": [
    "elec.head()"
   ]
  },
  {
   "cell_type": "code",
   "execution_count": 5,
   "metadata": {},
   "outputs": [
    {
     "data": {
      "text/plain": [
       "[<matplotlib.lines.Line2D at 0x7f8510e00670>]"
      ]
     },
     "execution_count": 5,
     "metadata": {},
     "output_type": "execute_result"
    },
    {
     "data": {
      "image/png": "[encoded data removed]",
      "text/plain": [
       "<Figure size 432x216 with 1 Axes>"
      ]
     },
     "metadata": {
      "needs_background": "light"
     },
     "output_type": "display_data"
    }
   ],
   "source": [
    "plt.plot(elec.V1)"
   ]
  },
  {
   "cell_type": "code",
   "execution_count": 6,
   "metadata": {},
   "outputs": [
    {
     "data": {
      "text/plain": [
       "[<matplotlib.lines.Line2D at 0x7f8510cead60>]"
      ]
     },
     "execution_count": 6,
     "metadata": {},
     "output_type": "execute_result"
    },
    {
     "data": {
      "image/png": "[encoded data removed]",
      "text/plain": [
       "<Figure size 432x216 with 1 Axes>"
      ]
     },
     "metadata": {
      "needs_background": "light"
     },
     "output_type": "display_data"
    }
   ],
   "source": [
    "plt.plot(elec.V1[:96])"
   ]
  },
  {
   "cell_type": "markdown",
   "metadata": {},
   "source": [
    "## Handy data structures"
   ]
  },
  {
   "cell_type": "code",
   "execution_count": 7,
   "metadata": {},
   "outputs": [],
   "source": [
    "## courtesy of https://www.saltycrane.com/blog/2007/11/python-circular-buffer/\n",
    "class RingBuffer:\n",
    "    def __init__(self, size):\n",
    "        self.data = [0 for i in range(size)]\n",
    "\n",
    "    def append(self, x):\n",
    "        self.data.pop(0)\n",
    "        self.data.append(x)\n",
    "\n",
    "    def get(self):\n",
    "        return self.data"
   ]
  },
  {
   "cell_type": "markdown",
   "metadata": {},
   "source": [
    "## Data preparation"
   ]
  },
  {
   "cell_type": "code",
   "execution_count": 8,
   "metadata": {},
   "outputs": [],
   "source": [
    "################################\n",
    "## DATA PREPARATION ##\n",
    "################################\n",
    "\n",
    "def prepared_data(data_file, win, h, model_name):\n",
    "    df = pd.read_csv(data_file, sep=',', header=0)\n",
    "    x  = df.iloc[:, :].values ## need to drop first column as that's an index not a value\n",
    "    x = (x - np.mean(x, axis = 0)) / (np.std(x, axis = 0)) ## normalize data\n",
    "    \n",
    "    if model_name == 'fc_model':\n",
    "        ## provide first and second step lookbacks in one flat input\n",
    "        X = np.hstack([x[1:-h], x[0:-(h+1)]])\n",
    "        Y = x[(h+1):]\n",
    "        return (X, Y)\n",
    "    else:    \n",
    "        # preallocate X and Y data arrays\n",
    "        # X shape = num examples * time win * num channels (NTC)\n",
    "        X = np.zeros((x.shape[0] - win - h, win, x.shape[1]))\n",
    "        # Y shape = num examples * num channels\n",
    "        Y = np.zeros((x.shape[0] - win - h, x.shape[1]))\n",
    "        \n",
    "        for i in range(win, x.shape[0] - h):\n",
    "            y_i = x[i + h - 1     , :] ## the target value is h steps ahead\n",
    "            x_i = x[(i - win) : i , :] ## the input data are the previous win steps\n",
    "            X[i-win] = x_i\n",
    "            Y[i-win] = y_i\n",
    "\n",
    "        return (X, Y)\n",
    "\n",
    "\n",
    "def prepare_iters(data_file, win, h, model, batch_n):\n",
    "    X, Y = prepared_data(data_file, win, h, model)\n",
    "\n",
    "    n_tr = int(Y.shape[0] * DATA_SEGMENTS['tr'])\n",
    "    n_va = int(Y.shape[0] * DATA_SEGMENTS['va'])\n",
    "\n",
    "    X_tr, X_valid, X_test = X[                      : n_tr], \\\n",
    "                               X[n_tr             : n_tr + n_va], \\\n",
    "                               X[n_tr + n_va : ]\n",
    "    Y_tr, Y_valid, Y_test = Y[                      : n_tr], \\\n",
    "                               Y[n_tr             : n_tr + n_va], \\\n",
    "                               Y[n_tr + n_va : ]\n",
    "    \n",
    "    iter_tr = mx.io.NDArrayIter(data       = X_tr,\n",
    "                                   label      = Y_tr,\n",
    "                                   batch_size = batch_n)\n",
    "    iter_val = mx.io.NDArrayIter(  data       = X_valid,\n",
    "                                   label      = Y_valid,\n",
    "                                   batch_size = batch_n)\n",
    "    iter_test = mx.io.NDArrayIter( data       = X_test,\n",
    "                                   label      = Y_test,\n",
    "                                   batch_size = batch_n)\n",
    "\n",
    "    return (iter_tr, iter_val, iter_test)\n"
   ]
  },
  {
   "cell_type": "markdown",
   "metadata": {},
   "source": [
    "## Define models"
   ]
  },
  {
   "cell_type": "code",
   "execution_count": 9,
   "metadata": {},
   "outputs": [],
   "source": [
    "################\n",
    "## MODELS ##\n",
    "################\n",
    "\n",
    "def fc_model(iter_train, input_feature_shape, X, Y,\n",
    "             win, sz_filt, n_filter, drop, seasonal_period):\n",
    "    output = mx.sym.FullyConnected(data=X, num_hidden=20)\n",
    "    output = mx.sym.Activation(output, act_type = 'relu')\n",
    "    output = mx.sym.FullyConnected(data=output, num_hidden=10)\n",
    "    output = mx.sym.Activation(output, act_type = 'relu')\n",
    "    output = mx.sym.FullyConnected(data=output, num_hidden=321)\n",
    "    \n",
    "    loss_grad = mx.sym.LinearRegressionOutput(data=output, label=Y)\n",
    "    return (loss_grad,\n",
    "            [v.name for v in iter_train.provide_data],\n",
    "            [v.name for v in iter_train.provide_label])    \n",
    "    \n",
    "def cnn_model(iter_train, input_feature_shape, X, Y,\n",
    "              win, sz_filt, n_filter, drop, seasonal_period):\n",
    "    conv_input = mx.sym.reshape(data=X, shape=(0, 1, win, -1)) \n",
    "    ## Convolution expects 4d input (N x channel x height x width)\n",
    "    ## in our case channel = 1 (similar to a black and white image\n",
    "    ## height = time and width = channels slash electric locations\n",
    "    \n",
    "    cnn_output = mx.sym.Convolution(data=conv_input,\n",
    "                                    kernel=(sz_filt,\n",
    "                                            input_feature_shape[2]),\n",
    "                                    num_filter=n_filter)\n",
    "    cnn_output = mx.sym.Activation(data=cnn_output, act_type='relu')\n",
    "    cnn_output = mx.sym.reshape(mx.sym.transpose(data=cnn_output,\n",
    "                                                 axes=(0, 2, 1, 3)),\n",
    "                                shape=(0, 0, 0)) \n",
    "    cnn_output = mx.sym.Dropout(cnn_output, p=drop)\n",
    "        \n",
    "    output = mx.sym.FullyConnected(data=cnn_output,\n",
    "                                   num_hidden=input_feature_shape[2])\n",
    "    loss_grad = mx.sym.LinearRegressionOutput(data=output, label=Y)\n",
    "    return (loss_grad,\n",
    "            [v.name for v in iter_train.provide_data],\n",
    "            [v.name for v in iter_train.provide_label])    \n",
    "\n",
    "    \n",
    "def rnn_model(iter_train, input_feature_shape, X, Y,\n",
    "              win, sz_filt, n_filter, drop, seasonal_period):\n",
    "    rnn_cells = mx.rnn.SequentialRNNCell()\n",
    "    rnn_cells.add(mx.rnn.GRUCell(num_hidden=RNN_UNITS))\n",
    "    rnn_cells.add(mx.rnn.DropoutCell(drop))\n",
    "    outputs, _ = rnn_cells.unroll(length=win, inputs=X, merge_outputs=False)\n",
    "    rnn_output = outputs[-1] # only take value from final unrolled cell for use later\n",
    "    \n",
    "    output = mx.sym.FullyConnected(data=rnn_output, num_hidden=input_feature_shape[2])\n",
    "    loss_grad = mx.sym.LinearRegressionOutput(data=output, label=Y)\n",
    "    return (loss_grad,\n",
    "            [v.name for v in iter_train.provide_data],\n",
    "            [v.name for v in iter_train.provide_label])    \n",
    "\n",
    "## simplifications to\n",
    "## https://github.com/apache/incubator-mxnet/blob/master/example/multivariate_time_series/src/lstnet.py\n",
    "def simple_lstnet_model(iter_train,  input_feature_shape, X, Y,\n",
    "                        win, sz_filt, n_filter, drop, seasonal_period):\n",
    "    ## must be 4d or 5d to use padding functionality\n",
    "    conv_input = mx.sym.reshape(data=X, shape=(0, 1, win, -1)) \n",
    "\n",
    "    ## convolutional element\n",
    "    ## we add padding at the end of the time win\n",
    "    cnn_output = mx.sym.pad(data=conv_input,\n",
    "                            mode=\"constant\",\n",
    "                            constant_value=0,\n",
    "                            pad_width=(0, 0,\n",
    "                                       0, 0,\n",
    "                                       0, sz_filt - 1, \n",
    "                                       0, 0))\n",
    "    cnn_output = mx.sym.Convolution(data=cnn_output,\n",
    "                                    kernel=(sz_filt,\n",
    "                                            input_feature_shape[2]),\n",
    "                                    num_filter=n_filter)\n",
    "    cnn_output = mx.sym.Activation(data=cnn_output, act_type='relu')\n",
    "    cnn_output = mx.sym.reshape(mx.sym.transpose(data=cnn_output,\n",
    "                                                 axes=(0, 2, 1, 3)),\n",
    "                                shape=(0, 0, 0))\n",
    "    cnn_output = mx.sym.Dropout(cnn_output, p=drop)\n",
    "\n",
    "    ## recurrent element\n",
    "    stacked_rnn_cells = mx.rnn.SequentialRNNCell()\n",
    "    stacked_rnn_cells.add(mx.rnn.GRUCell(num_hidden=RNN_UNITS))\n",
    "    outputs, _ = stacked_rnn_cells.unroll(length=win,\n",
    "                                          inputs=cnn_output,\n",
    "                                          merge_outputs=False)\n",
    "    rnn_output = outputs[-1] # only take value from final unrolled cell for use later\n",
    "    n_outputs = input_feature_shape[2]\n",
    "    cnn_rnn_model = mx.sym.FullyConnected(data=rnn_output,\n",
    "                                          num_hidden=n_outputs)\n",
    "\n",
    "    ## ar element\n",
    "    ar_outputs = []\n",
    "    for i in list(range(input_feature_shape[2])):\n",
    "        ar_series = mx.sym.slice_axis(data=X,\n",
    "                                      axis=2,\n",
    "                                      begin=i,\n",
    "                                      end=i+1)\n",
    "        fc_ar = mx.sym.FullyConnected(data=ar_series, num_hidden=1)\n",
    "        ar_outputs.append(fc_ar)\n",
    "    ar_model = mx.sym.concat(*ar_outputs, dim=1)\n",
    "\n",
    "    output = cnn_rnn_model + ar_model\n",
    "    loss_grad = mx.sym.LinearRegressionOutput(data=output, label=Y)\n",
    "    return (loss_grad,\n",
    "            [v.name for v in iter_train.provide_data],\n",
    "            [v.name for v in iter_train.provide_label])"
   ]
  },
  {
   "cell_type": "markdown",
   "metadata": {},
   "source": [
    "## Training"
   ]
  },
  {
   "cell_type": "code",
   "execution_count": 10,
   "metadata": {},
   "outputs": [],
   "source": [
    "################\n",
    "## TRAINING ##\n",
    "################\n",
    "\n",
    "def train(symbol, iter_train, valid_iter, iter_test,\n",
    "          data_names, label_names,\n",
    "          save_dir, gpu):\n",
    "    ## save training information/results \n",
    "    if not os.path.exists(SAVE_DIR):\n",
    "        os.makedirs(SAVE_DIR)\n",
    "    printFile = open(os.path.join(SAVE_DIR, 'log.txt'), 'w')\n",
    "    def print_to_file(msg):\n",
    "        print(msg)\n",
    "        print(msg, file = printFile, flush = True)\n",
    "    ## print_to_file(args) ## preserve configuation to enable hyperparameter optimization\n",
    "    ## archiving results header\n",
    "    print_to_file('Epoch     Training Cor     Validation Cor')\n",
    "\n",
    "\n",
    "    ## storing prior epoch's values to set an improvement threshold\n",
    "    ## terminates early if progress slow\n",
    "    buf     = RingBuffer(THRESHOLD_EPOCHS)\n",
    "    old_val = None\n",
    "\n",
    "    ## mxnet boilerplate\n",
    "    ## defaults to 1 gpu of which index is 0\n",
    "    ##devs = [mx.gpu(gpu)]\n",
    "    devs   = mx.cpu()\n",
    "    module = mx.mod.Module(symbol,\n",
    "                           data_names=data_names,\n",
    "                           label_names=label_names,\n",
    "                           context=devs)\n",
    "    module.bind(data_shapes=iter_train.provide_data,\n",
    "                label_shapes=iter_train.provide_label)\n",
    "    module.init_params(mx.initializer.Uniform(0.1))\n",
    "    module.init_optimizer(optimizer='adam',\n",
    "                          optimizer_params={'learning_rate': LR})\n",
    "\n",
    "    ## training\n",
    "    for epoch in range( N_EPOCHS):\n",
    "        iter_train.reset()\n",
    "        iter_val.reset()\n",
    "        for batch in iter_train:\n",
    "            module.forward(batch, is_train=True) # compute predictions\n",
    "            module.backward()                    # compute gradients\n",
    "            module.update()                      # update parameters\n",
    "\n",
    "        ## training results\n",
    "        train_pred  = module.predict(iter_train).asnumpy()\n",
    "        train_label = iter_train.label[0][1].asnumpy()\n",
    "        train_perf  = perf.write_eval(train_pred, train_label,\n",
    "                                      save_dir, 'train', epoch)\n",
    "\n",
    "        ## validation results\n",
    "        val_pred  = module.predict(iter_val).asnumpy()\n",
    "        val_label = iter_val.label[0][1].asnumpy()\n",
    "        val_perf = perf.write_eval(val_pred, val_label,\n",
    "                                   save_dir, 'valid', epoch)\n",
    "\n",
    "        print_to_file('%d         %f       %f ' % (epoch, train_perf['COR'], val_perf['COR']))\n",
    "        \n",
    "        if epoch > 0:                                # if we don't yet have measures of improvement, skip\n",
    "            buf.append(val_perf['COR'] - old_val) \n",
    "        if epoch > 2:                                # if we do have measures of improvement, check them\n",
    "            vals = buf.get()\n",
    "            # print(vals)\n",
    "            # print(COR_THRESHOLD)\n",
    "            vals = [v for v in vals if v != 0]\n",
    "            if sum([v < COR_THRESHOLD for v in vals]) == len(vals):\n",
    "                print_to_file('EARLY EXIT')\n",
    "                break\n",
    "        old_val = val_perf['COR']\n",
    "                \n",
    "    ## testing\n",
    "    test_pred  = module.predict(iter_test).asnumpy()\n",
    "    test_label = iter_test.label[0][1].asnumpy()\n",
    "    test_perf = perf.write_eval(test_pred, test_label, save_dir, 'tst', epoch)\n",
    "    print_to_file('\\n TESTING PERFORMANCE')\n",
    "    print_to_file(test_perf)"
   ]
  },
  {
   "cell_type": "markdown",
   "metadata": {},
   "source": [
    "## Run"
   ]
  },
  {
   "cell_type": "code",
   "execution_count": 11,
   "metadata": {},
   "outputs": [
    {
     "name": "stdout",
     "output_type": "stream",
     "text": [
      "Epoch     Training Cor     Validation Cor\n",
      "0         0.028576       0.028752 \n",
      "1         0.051831       0.051783 \n",
      "2         0.078531       0.077830 \n",
      "3         0.108916       0.107650 \n",
      "4         0.141886       0.140506 \n",
      "5         0.175833       0.174569 \n",
      "6         0.209475       0.208162 \n",
      "7         0.241969       0.240266 \n",
      "8         0.272699       0.270198 \n",
      "9         0.301293       0.297667 \n",
      "10         0.327900       0.323109 \n",
      "11         0.352886       0.347329 \n",
      "12         0.375767       0.370011 \n",
      "13         0.395820       0.389853 \n",
      "14         0.412578       0.406100 \n",
      "15         0.426169       0.418985 \n",
      "16         0.437161       0.429241 \n",
      "17         0.446158       0.437499 \n",
      "18         0.453713       0.444297 \n",
      "19         0.460132       0.450024 \n",
      "20         0.465372       0.454739 \n",
      "21         0.469503       0.458477 \n",
      "EARLY EXIT\n",
      "\n",
      " TESTING PERFORMANCE\n",
      "{'COR': 0.44787285}\n"
     ]
    }
   ],
   "source": [
    "# create data iterators\n",
    "iter_train, iter_val, iter_test = prepare_iters(DATA_FILE, WIN, H, MODEL, BATCH_N)    \n",
    "\n",
    "## prepare symbols\n",
    "input_feature_shape = iter_train.provide_data[0][1]    \n",
    "X                   = mx.sym.Variable(iter_train.provide_data[0].name)\n",
    "Y                   = mx.sym.Variable(iter_train.provide_label[0].name)\n",
    "    \n",
    "# set up model\n",
    "model_dict = {\n",
    "    'fc_model'            : fc_model,\n",
    "    'rnn_model'           : rnn_model,\n",
    "    'cnn_model'           : cnn_model,\n",
    "    'simple_lstnet_model' : simple_lstnet_model\n",
    "    }\n",
    "\n",
    "model = model_dict[MODEL]\n",
    "    \n",
    "symbol, data_names, label_names = model(iter_train,\n",
    "                                        input_feature_shape, X, Y,\n",
    "                                        WIN, SZ_FILT,\n",
    "                                        N_FILT, DROP, SEASONAL_PERIOD)\n",
    "\n",
    "## train \n",
    "train(symbol, iter_train, iter_val, iter_test, data_names, label_names, SAVE_DIR, GPU)"
   ]
  },
  {
   "cell_type": "markdown",
   "metadata": {},
   "source": [
    "## Exercise: load the results and evaluate the model performance"
   ]
  },
  {
   "cell_type": "code",
   "execution_count": 12,
   "metadata": {},
   "outputs": [],
   "source": [
    "results_true = pd.read_csv(\"resultsDir/valid_label_21.csv\", index_col=0)\n",
    "results_pred  = pd.read_csv(\"resultsDir/valid_pred_21.csv\", index_col=0)"
   ]
  },
  {
   "cell_type": "code",
   "execution_count": 13,
   "metadata": {},
   "outputs": [
    {
     "data": {
      "text/html": [
       "<div>\n",
       "<style scoped>\n",
       "    .dataframe tbody tr th:only-of-type {\n",
       "        vertical-align: middle;\n",
       "    }\n",
       "\n",
       "    .dataframe tbody tr th {\n",
       "        vertical-align: top;\n",
       "    }\n",
       "\n",
       "    .dataframe thead th {\n",
       "        text-align: right;\n",
       "    }\n",
       "</style>\n",
       "<table border=\"1\" class=\"dataframe\">\n",
       "  <thead>\n",
       "    <tr style=\"text-align: right;\">\n",
       "      <th></th>\n",
       "      <th>0</th>\n",
       "      <th>1</th>\n",
       "      <th>2</th>\n",
       "      <th>3</th>\n",
       "      <th>4</th>\n",
       "      <th>5</th>\n",
       "      <th>6</th>\n",
       "      <th>7</th>\n",
       "      <th>8</th>\n",
       "      <th>9</th>\n",
       "      <th>...</th>\n",
       "      <th>311</th>\n",
       "      <th>312</th>\n",
       "      <th>313</th>\n",
       "      <th>314</th>\n",
       "      <th>315</th>\n",
       "      <th>316</th>\n",
       "      <th>317</th>\n",
       "      <th>318</th>\n",
       "      <th>319</th>\n",
       "      <th>320</th>\n",
       "    </tr>\n",
       "  </thead>\n",
       "  <tbody>\n",
       "    <tr>\n",
       "      <th>0</th>\n",
       "      <td>-0.560673</td>\n",
       "      <td>-0.076656</td>\n",
       "      <td>0.000371</td>\n",
       "      <td>-0.761436</td>\n",
       "      <td>-1.094621</td>\n",
       "      <td>-1.200368</td>\n",
       "      <td>-0.682399</td>\n",
       "      <td>-1.318577</td>\n",
       "      <td>-0.077902</td>\n",
       "      <td>-0.487915</td>\n",
       "      <td>...</td>\n",
       "      <td>-1.479909</td>\n",
       "      <td>-0.294226</td>\n",
       "      <td>-1.479676</td>\n",
       "      <td>-1.689920</td>\n",
       "      <td>-1.493506e+00</td>\n",
       "      <td>-2.013843</td>\n",
       "      <td>-0.442863</td>\n",
       "      <td>-0.289962</td>\n",
       "      <td>0.009437</td>\n",
       "      <td>-1.102802</td>\n",
       "    </tr>\n",
       "    <tr>\n",
       "      <th>1</th>\n",
       "      <td>-0.240283</td>\n",
       "      <td>-0.919265</td>\n",
       "      <td>0.000371</td>\n",
       "      <td>-0.526121</td>\n",
       "      <td>-1.235841</td>\n",
       "      <td>-0.910931</td>\n",
       "      <td>-0.227564</td>\n",
       "      <td>-0.725241</td>\n",
       "      <td>0.292009</td>\n",
       "      <td>-0.112612</td>\n",
       "      <td>...</td>\n",
       "      <td>-1.561892</td>\n",
       "      <td>-0.177941</td>\n",
       "      <td>-0.630486</td>\n",
       "      <td>-0.814298</td>\n",
       "      <td>-2.091902e-01</td>\n",
       "      <td>-1.701540</td>\n",
       "      <td>0.049222</td>\n",
       "      <td>0.069681</td>\n",
       "      <td>-0.077024</td>\n",
       "      <td>-0.674628</td>\n",
       "    </tr>\n",
       "    <tr>\n",
       "      <th>2</th>\n",
       "      <td>0.000009</td>\n",
       "      <td>-0.536261</td>\n",
       "      <td>0.000371</td>\n",
       "      <td>-0.719910</td>\n",
       "      <td>-0.953401</td>\n",
       "      <td>-0.502315</td>\n",
       "      <td>-0.454981</td>\n",
       "      <td>-0.131904</td>\n",
       "      <td>-0.915069</td>\n",
       "      <td>-0.206437</td>\n",
       "      <td>...</td>\n",
       "      <td>-0.195507</td>\n",
       "      <td>-0.499435</td>\n",
       "      <td>-0.250923</td>\n",
       "      <td>-0.119471</td>\n",
       "      <td>-1.011783e-01</td>\n",
       "      <td>-0.269254</td>\n",
       "      <td>0.590514</td>\n",
       "      <td>-0.492479</td>\n",
       "      <td>-0.000170</td>\n",
       "      <td>-0.240588</td>\n",
       "    </tr>\n",
       "    <tr>\n",
       "      <th>3</th>\n",
       "      <td>0.000009</td>\n",
       "      <td>-0.076656</td>\n",
       "      <td>0.000371</td>\n",
       "      <td>0.276719</td>\n",
       "      <td>-0.282604</td>\n",
       "      <td>-0.289494</td>\n",
       "      <td>0.227270</td>\n",
       "      <td>-0.065978</td>\n",
       "      <td>0.350416</td>\n",
       "      <td>-0.075081</td>\n",
       "      <td>...</td>\n",
       "      <td>-0.039949</td>\n",
       "      <td>-0.239504</td>\n",
       "      <td>-0.240201</td>\n",
       "      <td>-0.223114</td>\n",
       "      <td>-3.600327e-02</td>\n",
       "      <td>0.032280</td>\n",
       "      <td>0.049222</td>\n",
       "      <td>-2.070717</td>\n",
       "      <td>0.230392</td>\n",
       "      <td>-0.574916</td>\n",
       "    </tr>\n",
       "    <tr>\n",
       "      <th>4</th>\n",
       "      <td>0.000009</td>\n",
       "      <td>-0.153257</td>\n",
       "      <td>0.000371</td>\n",
       "      <td>-0.581489</td>\n",
       "      <td>0.070446</td>\n",
       "      <td>-0.204366</td>\n",
       "      <td>-0.227564</td>\n",
       "      <td>0.618007</td>\n",
       "      <td>-0.292061</td>\n",
       "      <td>-0.018786</td>\n",
       "      <td>...</td>\n",
       "      <td>-0.014723</td>\n",
       "      <td>0.143553</td>\n",
       "      <td>-0.645497</td>\n",
       "      <td>-0.024659</td>\n",
       "      <td>6.794120e-07</td>\n",
       "      <td>-0.043104</td>\n",
       "      <td>-1.033364</td>\n",
       "      <td>-0.579771</td>\n",
       "      <td>-0.000170</td>\n",
       "      <td>0.175855</td>\n",
       "    </tr>\n",
       "  </tbody>\n",
       "</table>\n",
       "<p>5 rows × 321 columns</p>\n",
       "</div>"
      ],
      "text/plain": [
       "          0         1         2         3         4         5         6  \\\n",
       "0 -0.560673 -0.076656  0.000371 -0.761436 -1.094621 -1.200368 -0.682399   \n",
       "1 -0.240283 -0.919265  0.000371 -0.526121 -1.235841 -0.910931 -0.227564   \n",
       "2  0.000009 -0.536261  0.000371 -0.719910 -0.953401 -0.502315 -0.454981   \n",
       "3  0.000009 -0.076656  0.000371  0.276719 -0.282604 -0.289494  0.227270   \n",
       "4  0.000009 -0.153257  0.000371 -0.581489  0.070446 -0.204366 -0.227564   \n",
       "\n",
       "          7         8         9  ...       311       312       313       314  \\\n",
       "0 -1.318577 -0.077902 -0.487915  ... -1.479909 -0.294226 -1.479676 -1.689920   \n",
       "1 -0.725241  0.292009 -0.112612  ... -1.561892 -0.177941 -0.630486 -0.814298   \n",
       "2 -0.131904 -0.915069 -0.206437  ... -0.195507 -0.499435 -0.250923 -0.119471   \n",
       "3 -0.065978  0.350416 -0.075081  ... -0.039949 -0.239504 -0.240201 -0.223114   \n",
       "4  0.618007 -0.292061 -0.018786  ... -0.014723  0.143553 -0.645497 -0.024659   \n",
       "\n",
       "            315       316       317       318       319       320  \n",
       "0 -1.493506e+00 -2.013843 -0.442863 -0.289962  0.009437 -1.102802  \n",
       "1 -2.091902e-01 -1.701540  0.049222  0.069681 -0.077024 -0.674628  \n",
       "2 -1.011783e-01 -0.269254  0.590514 -0.492479 -0.000170 -0.240588  \n",
       "3 -3.600327e-02  0.032280  0.049222 -2.070717  0.230392 -0.574916  \n",
       "4  6.794120e-07 -0.043104 -1.033364 -0.579771 -0.000170  0.175855  \n",
       "\n",
       "[5 rows x 321 columns]"
      ]
     },
     "execution_count": 13,
     "metadata": {},
     "output_type": "execute_result"
    }
   ],
   "source": [
    "results_true.head()"
   ]
  },
  {
   "cell_type": "code",
   "execution_count": 14,
   "metadata": {},
   "outputs": [
    {
     "data": {
      "text/plain": [
       "(0.014667883675445297, 0.28773690171063954)"
      ]
     },
     "execution_count": 14,
     "metadata": {},
     "output_type": "execute_result"
    },
    {
     "data": {
      "image/png": "[encoded data removed]",
      "text/plain": [
       "<Figure size 432x216 with 1 Axes>"
      ]
     },
     "metadata": {
      "needs_background": "light"
     },
     "output_type": "display_data"
    }
   ],
   "source": [
    "plt.scatter(results_true.iloc[:, 0], results_pred.iloc[:, 0])\n",
    "pearsonr(results_true.iloc[:, 0], results_pred.iloc[:, 0])"
   ]
  },
  {
   "cell_type": "code",
   "execution_count": 15,
   "metadata": {},
   "outputs": [
    {
     "name": "stdout",
     "output_type": "stream",
     "text": [
      "(0.475862289691053, 3.0633940241033433e-295)\n",
      "SpearmanrResult(correlation=0.5898567176855302, pvalue=0.0)\n"
     ]
    },
    {
     "data": {
      "image/png": "[encoded data removed]",
      "text/plain": [
       "<Figure size 432x216 with 1 Axes>"
      ]
     },
     "metadata": {
      "needs_background": "light"
     },
     "output_type": "display_data"
    }
   ],
   "source": [
    "plt.scatter(results_true.iloc[:, 25], results_pred.iloc[:, 25])\n",
    "print(pearsonr(results_true.iloc[:,25], results_pred.iloc[:, 25]))\n",
    "print(spearmanr(results_true.iloc[:,25], results_pred.iloc[:, 25]))"
   ]
  },
  {
   "cell_type": "code",
   "execution_count": 16,
   "metadata": {},
   "outputs": [
    {
     "name": "stdout",
     "output_type": "stream",
     "text": [
      "(0.17923000581466283, 3.4838528671573815e-39)\n"
     ]
    },
    {
     "data": {
      "image/png": "[encoded data removed]",
      "text/plain": [
       "<Figure size 432x216 with 1 Axes>"
      ]
     },
     "metadata": {
      "needs_background": "light"
     },
     "output_type": "display_data"
    }
   ],
   "source": [
    "plt.scatter(results_true.iloc[:, 50], results_pred.iloc[:, 50])\n",
    "print(pearsonr(results_true.iloc[:, 50], results_pred.iloc[:, 50]))"
   ]
  },
  {
   "cell_type": "code",
   "execution_count": 17,
   "metadata": {},
   "outputs": [
    {
     "data": {
      "text/plain": [
       "[<matplotlib.lines.Line2D at 0x7f84fe456910>]"
      ]
     },
     "execution_count": 17,
     "metadata": {},
     "output_type": "execute_result"
    },
    {
     "data": {
      "image/png": "[encoded data removed]",
      "text/plain": [
       "<Figure size 432x216 with 1 Axes>"
      ]
     },
     "metadata": {
      "needs_background": "light"
     },
     "output_type": "display_data"
    }
   ],
   "source": [
    "plt.plot(results_true.iloc[1800:2000, 50])\n",
    "plt.plot(results_pred.iloc[1800:2000, 50] * 10)"
   ]
  },
  {
   "cell_type": "code",
   "execution_count": 18,
   "metadata": {},
   "outputs": [
    {
     "data": {
      "text/plain": [
       "[<matplotlib.lines.Line2D at 0x7f84fdeed250>]"
      ]
     },
     "execution_count": 18,
     "metadata": {},
     "output_type": "execute_result"
    },
    {
     "data": {
      "image/png": "[encoded data removed]",
      "text/plain": [
       "<Figure size 432x216 with 1 Axes>"
      ]
     },
     "metadata": {
      "needs_background": "light"
     },
     "output_type": "display_data"
    }
   ],
   "source": [
    "plt.plot(results_true.iloc[1800:2000, 25])\n",
    "plt.plot(results_pred.iloc[1800:2000, 25] * 10)"
   ]
  },
  {
   "cell_type": "code",
   "execution_count": 19,
   "metadata": {},
   "outputs": [
    {
     "data": {
      "text/plain": [
       "(array([44., 10.,  7., 17., 13., 27., 19., 11., 28., 24.]),\n",
       " array([-0.48433498, -0.39125819, -0.2981814 , -0.20510462, -0.11202783,\n",
       "        -0.01895104,  0.07412575,  0.16720254,  0.26027932,  0.35335611,\n",
       "         0.4464329 ]),\n",
       " <BarContainer object of 10 artists>)"
      ]
     },
     "execution_count": 19,
     "metadata": {},
     "output_type": "execute_result"
    },
    {
     "data": {
      "image/png": "[encoded data removed]",
      "text/plain": [
       "<Figure size 432x216 with 1 Axes>"
      ]
     },
     "metadata": {
      "needs_background": "light"
     },
     "output_type": "display_data"
    }
   ],
   "source": [
    "plt.hist(results_pred.iloc[1800:2000, 25])"
   ]
  }
 ],
 "metadata": {
  "kernelspec": {
   "display_name": "ibaio_dev39",
   "language": "python",
   "name": "ibaio_dev39"
  },
  "language_info": {
   "codemirror_mode": {
    "name": "ipython",
    "version": 3
   },
   "file_extension": ".py",
   "mimetype": "text/x-python",
   "name": "python",
   "nbconvert_exporter": "python",
   "pygments_lexer": "ipython3",
   "version": "3.9.4"
  }
 },
 "nbformat": 4,
 "nbformat_minor": 4
}
